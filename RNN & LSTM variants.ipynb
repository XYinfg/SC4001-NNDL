{
 "cells": [
  {
   "cell_type": "code",
   "execution_count": 1,
   "id": "845055c7",
   "metadata": {},
   "outputs": [],
   "source": [
    "import pandas as pd\n",
    "import numpy as np\n",
    "import re\n",
    "from nltk.corpus import stopwords\n",
    "from nltk.stem import WordNetLemmatizer\n",
    "from sklearn.model_selection import train_test_split\n",
    "from sklearn.preprocessing import LabelEncoder\n",
    "from tensorflow.keras.preprocessing.text import Tokenizer\n",
    "from tensorflow.keras.preprocessing.sequence import pad_sequences\n",
    "from tensorflow.keras.utils import to_categorical\n",
    "from tensorflow.keras.models import Sequential\n",
    "from tensorflow.keras.layers import Embedding, LSTM, Dense, Bidirectional\n",
    "from tensorflow.keras.optimizers import Adam\n",
    "from sklearn.metrics import mean_squared_error\n",
    "from scipy.stats import pearsonr\n",
    "from sklearn.metrics import mean_squared_error\n",
    "from math import sqrt"
   ]
  },
  {
   "cell_type": "code",
   "execution_count": 2,
   "id": "c833a662",
   "metadata": {},
   "outputs": [],
   "source": [
    "# Load the dataset\n",
    "df = pd.read_csv('text_emotion.csv')\n",
    "\n",
    "# Preprocessing function\n",
    "def preprocess_text(text):\n",
    "    # Convert to lowercase\n",
    "    text = text.lower()\n",
    "    # Remove URLs, mentions, hashtags, and special characters\n",
    "    text = re.sub(r'http\\S+|www\\S+|https\\S+', '', text, flags=re.MULTILINE)\n",
    "    text = re.sub(r'\\@\\w+|\\#','', text)\n",
    "    text = re.sub(r'[^\\w\\s]', '', text)\n",
    "    # Remove numbers\n",
    "    text = re.sub(r'\\d+', '', text)\n",
    "    return text\n",
    "\n",
    "# Apply preprocessing to the content column\n",
    "df['content'] = df['content'].apply(preprocess_text)\n",
    "\n",
    "# Stopword removal and lemmatization\n",
    "stop_words = set(stopwords.words('english'))\n",
    "lemmatizer = WordNetLemmatizer()\n",
    "\n",
    "def remove_stopwords_and_lemmatize(text):\n",
    "    words = text.split()\n",
    "    words = [lemmatizer.lemmatize(word) for word in words if word not in stop_words]\n",
    "    return ' '.join(words)\n",
    "\n",
    "# Apply stopword removal and lemmatization to the content column\n",
    "df['processed_content'] = df['content'].apply(remove_stopwords_and_lemmatize)"
   ]
  },
  {
   "cell_type": "code",
   "execution_count": 3,
   "id": "b18069d7",
   "metadata": {},
   "outputs": [],
   "source": [
    "# Tokenization\n",
    "tokenizer = Tokenizer()\n",
    "tokenizer.fit_on_texts(df['processed_content'])\n",
    "sequences = tokenizer.texts_to_sequences(df['processed_content'])\n",
    "\n",
    "# Padding\n",
    "max_sequence_length = max(len(x) for x in sequences)\n",
    "X = pad_sequences(sequences, maxlen=max_sequence_length)\n",
    "\n",
    "# Encoding labels\n",
    "encoder = LabelEncoder()\n",
    "encoded_Y = encoder.fit_transform(df['sentiment'])\n",
    "# Assuming sentiment is the emotion intensity, if not, replace 'sentiment' with the correct column\n",
    "Y = to_categorical(encoded_Y)\n",
    "\n",
    "# Splitting the dataset\n",
    "X_train, X_test, Y_train, Y_test = train_test_split(X, Y, test_size=0.2, random_state=42)"
   ]
  },
  {
   "cell_type": "code",
   "execution_count": 5,
   "id": "ac58b0b4",
   "metadata": {},
   "outputs": [
    {
     "name": "stdout",
     "output_type": "stream",
     "text": [
      "Model: \"sequential_1\"\n",
      "_________________________________________________________________\n",
      " Layer (type)                Output Shape              Param #   \n",
      "=================================================================\n",
      " embedding_1 (Embedding)     (None, 25, 100)           3180500   \n",
      "                                                                 \n",
      " bidirectional_2 (Bidirecti  (None, 25, 128)           84480     \n",
      " onal)                                                           \n",
      "                                                                 \n",
      " bidirectional_3 (Bidirecti  (None, 64)                41216     \n",
      " onal)                                                           \n",
      "                                                                 \n",
      " dense_1 (Dense)             (None, 13)                845       \n",
      "                                                                 \n",
      "=================================================================\n",
      "Total params: 3307041 (12.62 MB)\n",
      "Trainable params: 3307041 (12.62 MB)\n",
      "Non-trainable params: 0 (0.00 Byte)\n",
      "_________________________________________________________________\n",
      "None\n",
      "Epoch 1/10\n",
      "800/800 [==============================] - 47s 55ms/step - loss: 2.0109 - accuracy: 0.3058 - val_loss: 1.9220 - val_accuracy: 0.3452\n",
      "Epoch 2/10\n",
      "800/800 [==============================] - 51s 64ms/step - loss: 1.7519 - accuracy: 0.4155 - val_loss: 1.9429 - val_accuracy: 0.3358\n",
      "Epoch 3/10\n",
      "800/800 [==============================] - 49s 62ms/step - loss: 1.4473 - accuracy: 0.5293 - val_loss: 2.1026 - val_accuracy: 0.3186\n",
      "Epoch 4/10\n",
      "800/800 [==============================] - 49s 62ms/step - loss: 1.1144 - accuracy: 0.6501 - val_loss: 2.3680 - val_accuracy: 0.2981\n",
      "Epoch 5/10\n",
      "800/800 [==============================] - 48s 60ms/step - loss: 0.8672 - accuracy: 0.7310 - val_loss: 2.6056 - val_accuracy: 0.3002\n",
      "Epoch 6/10\n",
      "800/800 [==============================] - 48s 60ms/step - loss: 0.6897 - accuracy: 0.7857 - val_loss: 2.8998 - val_accuracy: 0.2859\n",
      "Epoch 7/10\n",
      "800/800 [==============================] - 44s 55ms/step - loss: 0.5799 - accuracy: 0.8151 - val_loss: 3.1490 - val_accuracy: 0.2859\n",
      "Epoch 8/10\n",
      "800/800 [==============================] - 41s 52ms/step - loss: 0.5028 - accuracy: 0.8390 - val_loss: 3.3520 - val_accuracy: 0.2781\n",
      "Epoch 9/10\n",
      "800/800 [==============================] - 42s 52ms/step - loss: 0.4521 - accuracy: 0.8540 - val_loss: 3.5418 - val_accuracy: 0.2742\n",
      "Epoch 10/10\n",
      "800/800 [==============================] - 44s 55ms/step - loss: 0.4057 - accuracy: 0.8670 - val_loss: 3.8220 - val_accuracy: 0.2837\n"
     ]
    },
    {
     "data": {
      "text/plain": [
       "<keras.src.callbacks.History at 0x23b4f548c70>"
      ]
     },
     "execution_count": 5,
     "metadata": {},
     "output_type": "execute_result"
    }
   ],
   "source": [
    "# RNN & LSTM Model Building\n",
    "vocab_size = len(tokenizer.word_index) + 1  # Adding 1 because of reserved 0 index\n",
    "\n",
    "model = Sequential()\n",
    "model.add(Embedding(input_dim=vocab_size, output_dim=100, input_length=max_sequence_length))\n",
    "model.add(Bidirectional(LSTM(64, return_sequences=True)))\n",
    "model.add(Bidirectional(LSTM(32)))\n",
    "model.add(Dense(len(np.unique(encoded_Y)), activation='softmax'))  # Output layer\n",
    "\n",
    "# Compile the model\n",
    "model.compile(loss='categorical_crossentropy', optimizer=Adam(learning_rate=0.001), metrics=['accuracy'])\n",
    "\n",
    "# Model summary\n",
    "print(model.summary())\n",
    "\n",
    "# Model Training\n",
    "model.fit(X_train, Y_train, batch_size=32, epochs=10, validation_split=0.2)\n"
   ]
  },
  {
   "cell_type": "code",
   "execution_count": 6,
   "id": "03b00044",
   "metadata": {},
   "outputs": [
    {
     "name": "stdout",
     "output_type": "stream",
     "text": [
      "250/250 [==============================] - 2s 5ms/step\n",
      "Mean Squared Error: 12.388\n",
      "Pearson Correlation Coefficient: 0.184747345297376\n",
      "Concordance Correlation Coefficient: 0.1845152073680443\n"
     ]
    }
   ],
   "source": [
    "# Model Evaluation\n",
    "# Predictions\n",
    "Y_pred = model.predict(X_test)\n",
    "\n",
    "# Converting predictions and labels to highest probable emotions\n",
    "Y_pred_max = np.argmax(Y_pred, axis=1)\n",
    "Y_test_max = np.argmax(Y_test, axis=1)\n",
    "\n",
    "# Mean Squared Error\n",
    "mse = mean_squared_error(Y_test_max, Y_pred_max)\n",
    "print(f\"Mean Squared Error: {mse}\")\n",
    "\n",
    "# Pearson Correlation Coefficient\n",
    "pearson_corr, _ = pearsonr(Y_test_max, Y_pred_max)\n",
    "print(f\"Pearson Correlation Coefficient: {pearson_corr}\")\n",
    "\n",
    "# Concordance Correlation Coefficient\n",
    "def concordance_correlation_coefficient(y_true, y_pred):\n",
    "    correlation = np.corrcoef(y_true, y_pred)[0,1]\n",
    "    mean_true = np.mean(y_true)\n",
    "    mean_pred = np.mean(y_pred)\n",
    "    var_true = np.var(y_true)\n",
    "    var_pred = np.var(y_pred)\n",
    "    sd_true = np.std(y_true)\n",
    "    sd_pred = np.std(y_pred)\n",
    "    numerator = 2 * correlation * sd_true * sd_pred\n",
    "    denominator = var_true + var_pred + (mean_true - mean_pred)**2\n",
    "    return numerator / denominator\n",
    "\n",
    "ccc = concordance_correlation_coefficient(Y_test_max, Y_pred_max)\n",
    "print(f\"Concordance Correlation Coefficient: {ccc}\")"
   ]
  },
  {
   "cell_type": "markdown",
   "id": "72571381",
   "metadata": {},
   "source": [
    "### Further tune hyperparameters and convulution techniques: Gated convolutions and attention augmented convolutions"
   ]
  },
  {
   "cell_type": "markdown",
   "id": "f60a0285",
   "metadata": {},
   "source": [
    "## BiLSTM and Attention"
   ]
  },
  {
   "cell_type": "code",
   "execution_count": 7,
   "id": "371db3bf",
   "metadata": {},
   "outputs": [
    {
     "name": "stdout",
     "output_type": "stream",
     "text": [
      "Model: \"model\"\n",
      "__________________________________________________________________________________________________\n",
      " Layer (type)                Output Shape                 Param #   Connected to                  \n",
      "==================================================================================================\n",
      " input_1 (InputLayer)        [(None, 25)]                 0         []                            \n",
      "                                                                                                  \n",
      " embedding_2 (Embedding)     (None, 25, 100)              3180500   ['input_1[0][0]']             \n",
      "                                                                                                  \n",
      " bidirectional_4 (Bidirecti  (None, 25, 128)              84480     ['embedding_2[0][0]']         \n",
      " onal)                                                                                            \n",
      "                                                                                                  \n",
      " permute (Permute)           (None, 128, 25)              0         ['bidirectional_4[0][0]']     \n",
      "                                                                                                  \n",
      " reshape (Reshape)           (None, 128, 25)              0         ['permute[0][0]']             \n",
      "                                                                                                  \n",
      " dense_2 (Dense)             (None, 128, 25)              650       ['reshape[0][0]']             \n",
      "                                                                                                  \n",
      " attention_vec (Permute)     (None, 25, 128)              0         ['dense_2[0][0]']             \n",
      "                                                                                                  \n",
      " multiply (Multiply)         (None, 25, 128)              0         ['bidirectional_4[0][0]',     \n",
      "                                                                     'attention_vec[0][0]']       \n",
      "                                                                                                  \n",
      " bidirectional_5 (Bidirecti  (None, 64)                   41216     ['multiply[0][0]']            \n",
      " onal)                                                                                            \n",
      "                                                                                                  \n",
      " dropout (Dropout)           (None, 64)                   0         ['bidirectional_5[0][0]']     \n",
      "                                                                                                  \n",
      " dense_3 (Dense)             (None, 13)                   845       ['dropout[0][0]']             \n",
      "                                                                                                  \n",
      "==================================================================================================\n",
      "Total params: 3307691 (12.62 MB)\n",
      "Trainable params: 3307691 (12.62 MB)\n",
      "Non-trainable params: 0 (0.00 Byte)\n",
      "__________________________________________________________________________________________________\n",
      "None\n",
      "Epoch 1/10\n",
      "800/800 [==============================] - 55s 65ms/step - loss: 2.1438 - accuracy: 0.2281 - val_loss: 2.0241 - val_accuracy: 0.2597\n",
      "Epoch 2/10\n",
      "800/800 [==============================] - 47s 58ms/step - loss: 1.9576 - accuracy: 0.3207 - val_loss: 1.9755 - val_accuracy: 0.3250\n",
      "Epoch 3/10\n",
      "800/800 [==============================] - 45s 56ms/step - loss: 1.7655 - accuracy: 0.3944 - val_loss: 2.0082 - val_accuracy: 0.3245\n",
      "Epoch 4/10\n",
      "800/800 [==============================] - 48s 60ms/step - loss: 1.5740 - accuracy: 0.4664 - val_loss: 2.0984 - val_accuracy: 0.3186\n",
      "Epoch 5/10\n",
      "800/800 [==============================] - 47s 59ms/step - loss: 1.3891 - accuracy: 0.5439 - val_loss: 2.2841 - val_accuracy: 0.2978\n",
      "Epoch 6/10\n",
      "800/800 [==============================] - 46s 58ms/step - loss: 1.2039 - accuracy: 0.6099 - val_loss: 2.4710 - val_accuracy: 0.2766\n",
      "Epoch 7/10\n",
      "800/800 [==============================] - 44s 55ms/step - loss: 1.0664 - accuracy: 0.6602 - val_loss: 2.6796 - val_accuracy: 0.2881\n",
      "Epoch 8/10\n",
      "800/800 [==============================] - 45s 56ms/step - loss: 0.9411 - accuracy: 0.7012 - val_loss: 2.8211 - val_accuracy: 0.2864\n",
      "Epoch 9/10\n",
      "800/800 [==============================] - 45s 56ms/step - loss: 0.8456 - accuracy: 0.7289 - val_loss: 2.9499 - val_accuracy: 0.2864\n",
      "Epoch 10/10\n",
      "800/800 [==============================] - 45s 56ms/step - loss: 0.7609 - accuracy: 0.7594 - val_loss: 3.4088 - val_accuracy: 0.2769\n"
     ]
    },
    {
     "data": {
      "text/plain": [
       "<keras.src.callbacks.History at 0x23b5965fa60>"
      ]
     },
     "execution_count": 7,
     "metadata": {},
     "output_type": "execute_result"
    }
   ],
   "source": [
    "from tensorflow.keras.layers import Input, Concatenate, Permute, Reshape, Multiply, Lambda, Dropout\n",
    "from tensorflow.keras.models import Model\n",
    "import tensorflow.keras.backend as K\n",
    "\n",
    "# Attention Layer\n",
    "def attention_layer(inputs, neurons):\n",
    "    input_dim = int(inputs.shape[2])\n",
    "    a = Permute((2, 1))(inputs)\n",
    "    a = Reshape((input_dim, neurons))(a)\n",
    "    a = Dense(neurons, activation='softmax')(a)\n",
    "    a_probs = Permute((2, 1), name='attention_vec')(a)\n",
    "    output_attention = Multiply()([inputs, a_probs])\n",
    "    return output_attention\n",
    "\n",
    "# Model Building with BiLSTM and Attention\n",
    "input_layer = Input(shape=(max_sequence_length,))\n",
    "embedding_layer = Embedding(input_dim=vocab_size, output_dim=100, input_length=max_sequence_length)(input_layer)\n",
    "bilstm = Bidirectional(LSTM(64, return_sequences=True))(embedding_layer)\n",
    "attention = attention_layer(bilstm, neurons=max_sequence_length)\n",
    "bilstm_with_attention = Bidirectional(LSTM(32, return_sequences=False))(attention)\n",
    "dropout = Dropout(0.5)(bilstm_with_attention)\n",
    "output_layer = Dense(len(np.unique(encoded_Y)), activation='softmax')(dropout)\n",
    "\n",
    "model_with_attention = Model(inputs=input_layer, outputs=output_layer)\n",
    "\n",
    "# Compile the model\n",
    "model_with_attention.compile(loss='categorical_crossentropy', optimizer=Adam(learning_rate=0.001), metrics=['accuracy'])\n",
    "\n",
    "# Model summary\n",
    "print(model_with_attention.summary())\n",
    "\n",
    "# Model Training\n",
    "model_with_attention.fit(X_train, Y_train, batch_size=32, epochs=10, validation_split=0.2)\n"
   ]
  },
  {
   "cell_type": "code",
   "execution_count": 8,
   "id": "86b0a1f3",
   "metadata": {},
   "outputs": [
    {
     "name": "stdout",
     "output_type": "stream",
     "text": [
      "250/250 [==============================] - 1s 4ms/step\n",
      "Mean Squared Error: 12.388\n",
      "Pearson Correlation Coefficient: 0.184747345297376\n",
      "Concordance Correlation Coefficient: 0.1845152073680443\n"
     ]
    }
   ],
   "source": [
    "# Model Evaluation\n",
    "# Predictions\n",
    "Y_pred = model.predict(X_test)\n",
    "\n",
    "# Converting predictions and labels to highest probable emotions\n",
    "Y_pred_max = np.argmax(Y_pred, axis=1)\n",
    "Y_test_max = np.argmax(Y_test, axis=1)\n",
    "\n",
    "# Mean Squared Error\n",
    "mse = mean_squared_error(Y_test_max, Y_pred_max)\n",
    "print(f\"Mean Squared Error: {mse}\")\n",
    "\n",
    "# Pearson Correlation Coefficient\n",
    "pearson_corr, _ = pearsonr(Y_test_max, Y_pred_max)\n",
    "print(f\"Pearson Correlation Coefficient: {pearson_corr}\")\n",
    "\n",
    "# Concordance Correlation Coefficient\n",
    "def concordance_correlation_coefficient(y_true, y_pred):\n",
    "    correlation = np.corrcoef(y_true, y_pred)[0,1]\n",
    "    mean_true = np.mean(y_true)\n",
    "    mean_pred = np.mean(y_pred)\n",
    "    var_true = np.var(y_true)\n",
    "    var_pred = np.var(y_pred)\n",
    "    sd_true = np.std(y_true)\n",
    "    sd_pred = np.std(y_pred)\n",
    "    numerator = 2 * correlation * sd_true * sd_pred\n",
    "    denominator = var_true + var_pred + (mean_true - mean_pred)**2\n",
    "    return numerator / denominator\n",
    "\n",
    "ccc = concordance_correlation_coefficient(Y_test_max, Y_pred_max)\n",
    "print(f\"Concordance Correlation Coefficient: {ccc}\")"
   ]
  },
  {
   "cell_type": "code",
   "execution_count": null,
   "id": "af4f0258",
   "metadata": {},
   "outputs": [],
   "source": []
  }
 ],
 "metadata": {
  "kernelspec": {
   "display_name": "Python 3 (ipykernel)",
   "language": "python",
   "name": "python3"
  },
  "language_info": {
   "codemirror_mode": {
    "name": "ipython",
    "version": 3
   },
   "file_extension": ".py",
   "mimetype": "text/x-python",
   "name": "python",
   "nbconvert_exporter": "python",
   "pygments_lexer": "ipython3",
   "version": "3.9.7"
  }
 },
 "nbformat": 4,
 "nbformat_minor": 5
}
